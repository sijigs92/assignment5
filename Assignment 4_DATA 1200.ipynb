{
 "cells": [
  {
   "cell_type": "code",
   "execution_count": 1,
   "id": "fb548a0f-06a3-47d5-ac21-bd561c06991a",
   "metadata": {},
   "outputs": [],
   "source": [
    "#Load Libraries\n",
    "import pandas as pd\n",
    "import numpy as np\n",
    "import matplotlib.pyplot as plt\n",
    "%matplotlib inline"
   ]
  },
  {
   "cell_type": "code",
   "execution_count": 8,
   "id": "8900bf7b-ae5f-4a7d-b096-cf71a5409f04",
   "metadata": {},
   "outputs": [
    {
     "data": {
      "text/html": [
       "<div>\n",
       "<style scoped>\n",
       "    .dataframe tbody tr th:only-of-type {\n",
       "        vertical-align: middle;\n",
       "    }\n",
       "\n",
       "    .dataframe tbody tr th {\n",
       "        vertical-align: top;\n",
       "    }\n",
       "\n",
       "    .dataframe thead th {\n",
       "        text-align: right;\n",
       "    }\n",
       "</style>\n",
       "<table border=\"1\" class=\"dataframe\">\n",
       "  <thead>\n",
       "    <tr style=\"text-align: right;\">\n",
       "      <th></th>\n",
       "      <th>Age</th>\n",
       "      <th>Sex</th>\n",
       "      <th>BP</th>\n",
       "      <th>Cholesterol</th>\n",
       "      <th>Na_to_K</th>\n",
       "      <th>Drug</th>\n",
       "    </tr>\n",
       "  </thead>\n",
       "  <tbody>\n",
       "    <tr>\n",
       "      <th>0</th>\n",
       "      <td>23</td>\n",
       "      <td>1</td>\n",
       "      <td>2</td>\n",
       "      <td>1</td>\n",
       "      <td>25.355</td>\n",
       "      <td>drugY</td>\n",
       "    </tr>\n",
       "    <tr>\n",
       "      <th>1</th>\n",
       "      <td>47</td>\n",
       "      <td>0</td>\n",
       "      <td>1</td>\n",
       "      <td>1</td>\n",
       "      <td>13.093</td>\n",
       "      <td>drugC</td>\n",
       "    </tr>\n",
       "    <tr>\n",
       "      <th>2</th>\n",
       "      <td>47</td>\n",
       "      <td>0</td>\n",
       "      <td>1</td>\n",
       "      <td>1</td>\n",
       "      <td>10.114</td>\n",
       "      <td>drugC</td>\n",
       "    </tr>\n",
       "    <tr>\n",
       "      <th>3</th>\n",
       "      <td>28</td>\n",
       "      <td>1</td>\n",
       "      <td>0</td>\n",
       "      <td>1</td>\n",
       "      <td>7.798</td>\n",
       "      <td>drugX</td>\n",
       "    </tr>\n",
       "    <tr>\n",
       "      <th>4</th>\n",
       "      <td>61</td>\n",
       "      <td>1</td>\n",
       "      <td>1</td>\n",
       "      <td>1</td>\n",
       "      <td>18.043</td>\n",
       "      <td>drugY</td>\n",
       "    </tr>\n",
       "  </tbody>\n",
       "</table>\n",
       "</div>"
      ],
      "text/plain": [
       "   Age  Sex  BP  Cholesterol  Na_to_K   Drug\n",
       "0   23    1   2            1   25.355  drugY\n",
       "1   47    0   1            1   13.093  drugC\n",
       "2   47    0   1            1   10.114  drugC\n",
       "3   28    1   0            1    7.798  drugX\n",
       "4   61    1   1            1   18.043  drugY"
      ]
     },
     "execution_count": 8,
     "metadata": {},
     "output_type": "execute_result"
    }
   ],
   "source": [
    "#Load Data\n",
    "drug = pd.read_csv(\"C:\\\\Users\\\\sijig\\\\Downloads\\\\drugdataset.csv\")\n",
    "drug.head()"
   ]
  },
  {
   "cell_type": "code",
   "execution_count": 10,
   "id": "caff314c-7300-42b5-a456-c8089dd0214c",
   "metadata": {},
   "outputs": [
    {
     "data": {
      "text/plain": [
       "array(['drugY', 'drugC', 'drugX', 'drugA', 'drugB'], dtype=object)"
      ]
     },
     "execution_count": 10,
     "metadata": {},
     "output_type": "execute_result"
    }
   ],
   "source": [
    "#Identify number of Classes (i.e. drug)\n",
    "drug.Drug.unique()"
   ]
  },
  {
   "cell_type": "code",
   "execution_count": 12,
   "id": "5c32639b-f677-4f2b-8863-f74dfe2b3bb3",
   "metadata": {},
   "outputs": [],
   "source": [
    "#Create x and y variables\n",
    "X = drug.drop('Drug',axis=1).to_numpy()\n",
    "y = drug['Drug'].to_numpy()\n",
    "\n",
    "#Create Train and Test datasets\n",
    "from sklearn.model_selection import train_test_split  \n",
    "X_train, X_test, y_train, y_test = train_test_split(X, y, stratify=y,test_size = 0.20,random_state=100)\n",
    "\n",
    "#Scale the data\n",
    "from sklearn.preprocessing import StandardScaler  \n",
    "sc = StandardScaler()  \n",
    "x_train2 = sc.fit_transform(X_train)\n",
    "x_test2 = sc.transform(X_test)"
   ]
  },
  {
   "cell_type": "code",
   "execution_count": 14,
   "id": "b48211bb-beb8-49e0-a591-03da46eb39d2",
   "metadata": {},
   "outputs": [
    {
     "name": "stdout",
     "output_type": "stream",
     "text": [
      "[[ 5  0  0  0  0]\n",
      " [ 0  2  0  0  1]\n",
      " [ 0  0  3  0  0]\n",
      " [ 0  0  0 11  0]\n",
      " [ 0  0  0  1 17]]\n",
      "              precision    recall  f1-score   support\n",
      "\n",
      "       drugA       1.00      1.00      1.00         5\n",
      "       drugB       1.00      0.67      0.80         3\n",
      "       drugC       1.00      1.00      1.00         3\n",
      "       drugX       0.92      1.00      0.96        11\n",
      "       drugY       0.94      0.94      0.94        18\n",
      "\n",
      "    accuracy                           0.95        40\n",
      "   macro avg       0.97      0.92      0.94        40\n",
      "weighted avg       0.95      0.95      0.95        40\n",
      "\n"
     ]
    }
   ],
   "source": [
    "#Script for Neural Network\n",
    "from sklearn.neural_network import MLPClassifier  \n",
    "mlp = MLPClassifier(hidden_layer_sizes=(5,4,5),\n",
    "                    activation='relu',solver='adam',\n",
    "                    max_iter=10000,random_state=100)  \n",
    "mlp.fit(x_train2, y_train) \n",
    "predictions = mlp.predict(x_test2) \n",
    "\n",
    "#Evaluation Report and Matrix\n",
    "from sklearn.metrics import classification_report, confusion_matrix  \n",
    "target_names=['drugA','drugB','drugC','drugX','drugY']\n",
    "print(confusion_matrix(y_test,predictions))  \n",
    "print(classification_report(y_test, predictions, target_names=target_names, zero_division=0))"
   ]
  },
  {
   "cell_type": "code",
   "execution_count": 16,
   "id": "ee813281-4a8a-46c1-9727-9665144c29c4",
   "metadata": {},
   "outputs": [
    {
     "name": "stdout",
     "output_type": "stream",
     "text": [
      "\n",
      "Estimator: DT\n",
      "[[ 4  1  0  0  0]\n",
      " [ 0  3  0  0  0]\n",
      " [ 0  0  3  0  0]\n",
      " [ 0  0  0 10  1]\n",
      " [ 0  0  0  0 18]]\n",
      "              precision    recall  f1-score   support\n",
      "\n",
      "       drugA       1.00      0.80      0.89         5\n",
      "       drugB       0.75      1.00      0.86         3\n",
      "       drugC       1.00      1.00      1.00         3\n",
      "       drugX       1.00      0.91      0.95        11\n",
      "       drugY       0.95      1.00      0.97        18\n",
      "\n",
      "    accuracy                           0.95        40\n",
      "   macro avg       0.94      0.94      0.93        40\n",
      "weighted avg       0.96      0.95      0.95        40\n",
      "\n"
     ]
    }
   ],
   "source": [
    "#Script for Decision Tree\n",
    "from sklearn.tree import DecisionTreeClassifier  \n",
    "\n",
    "for name,method in [('DT', DecisionTreeClassifier(random_state=100))]: \n",
    "    method.fit(x_train2,y_train)\n",
    "    predict = method.predict(x_test2)\n",
    "    target_names=['drugA','drugB','drugC','drugX','drugY']\n",
    "    print('\\nEstimator: {}'.format(name)) \n",
    "    print(confusion_matrix(y_test,predict))  \n",
    "    print(classification_report(y_test,predict,target_names=target_names))  "
   ]
  },
  {
   "cell_type": "code",
   "execution_count": null,
   "id": "c10fdfb9-66aa-4107-b2eb-0b37864e57c1",
   "metadata": {},
   "outputs": [],
   "source": []
  }
 ],
 "metadata": {
  "kernelspec": {
   "display_name": "Python 3 (ipykernel)",
   "language": "python",
   "name": "python3"
  },
  "language_info": {
   "codemirror_mode": {
    "name": "ipython",
    "version": 3
   },
   "file_extension": ".py",
   "mimetype": "text/x-python",
   "name": "python",
   "nbconvert_exporter": "python",
   "pygments_lexer": "ipython3",
   "version": "3.12.4"
  }
 },
 "nbformat": 4,
 "nbformat_minor": 5
}
